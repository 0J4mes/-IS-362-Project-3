# -*- coding: utf-8 -*-
{
 "cells": [
  {
   "cell_type": "markdown",
   "metadata": {},
   "source": [
    "# IS362 - Project 3: Chinook Database Analysis\n",
    "\n",
    "**Course:** IS362  \n",
    "**Student:** [Your Name]  \n",
    "**Date:** [Submission Date]  \n",
    "\n",
    "## Project Requirements\n",
    "- Read data from SQL database into pandas DataFrame\n",
    "- Join across 5+ tables\n",
    "- Perform data analysis\n",
    "- Visualize results"
   ]
  },
  {
   "cell_type": "code",
   "execution_count": null,
   "metadata": {},
   "outputs": [],
   "source": [
    "# Import libraries\n",
    "import pandas as pd\n",
    "import sqlite3\n",
    "import matplotlib.pyplot as plt\n",
    "import seaborn as sns\n",
    "%matplotlib inline\n",
    "\n",
    "# Database connection\n",
    "conn = sqlite3.connect('data/Chinook_Sqlite.sqlite')"
   ]
  },
  {
   "cell_type": "code",
   "execution_count": null,
   "metadata": {},
   "outputs": [],
   "source": [
    "# Complex SQL Query joining 8 tables\n",
    "query = \"\"\"\n",
    "SELECT \n",
    "    i.InvoiceId,\n",
    "    i.InvoiceDate,\n",
    "    i.Total,\n",
    "    c.FirstName || ' ' || c.LastName AS Customer,\n",
    "    c.Country,\n",
    "    e.FirstName || ' ' || e.LastName AS SalesAgent,\n",
    "    t.Name AS Track,\n",
    "    a.Title AS Album,\n",
    "    g.Name AS Genre,\n",
    "    mt.Name AS MediaType,\n",
    "    il.UnitPrice,\n",
    "    il.Quantity\n",
    "FROM Invoice i\n",
    "JOIN Customer c ON i.CustomerId = c.CustomerId\n",
    "JOIN Employee e ON c.SupportRepId = e.EmployeeId\n",
    "JOIN InvoiceLine il ON i.InvoiceId = il.InvoiceId\n",
    "JOIN Track t ON il.TrackId = t.TrackId\n",
    "JOIN Album a ON t.AlbumId = a.AlbumId\n",
    "JOIN Genre g ON t.GenreId = g.GenreId\n",
    "JOIN MediaType mt ON t.MediaTypeId = mt.MediaTypeId\n",
    "\"\"\"\n",
    "\n",
    "# Load into DataFrame\n",
    "df = pd.read_sql_query(query, conn)\n",
    "df['InvoiceDate'] = pd.to_datetime(df['InvoiceDate'])\n",
    "\n",
    "# Display sample\n",
    "df.head(3)"
   ]
  },
  {
   "cell_type": "code",
   "execution_count": null,
   "metadata": {},
   "outputs": [],
   "source": [
    "# Sales by Country Analysis\n",
    "plt.figure(figsize=(12,6))\n",
    "df.groupby('Country')['Total'].sum().sort_values(ascending=False).head(10).plot.bar()\n",
    "plt.title('Top 10 Countries by Revenue')\n",
    "plt.ylabel('Total Sales ($)')\n",
    "plt.show()"
   ]
  },
  {
   "cell_type": "code",
   "execution_count": null,
   "metadata": {},
   "outputs": [],
   "source": [
    "# Sales Agent Performance\n",
    "agent_sales = df.groupby('SalesAgent').agg({\n",
    "    'Total': ['sum', 'count', 'mean'],\n",
    "    'Quantity': 'sum'\n",
    "})\n",
    "agent_sales.columns = ['TotalRevenue', 'NumTransactions', 'AvgSale', 'TracksSold']\n",
    "agent_sales.sort_values('TotalRevenue', ascending=False)"
   ]
  },
  {
   "cell_type": "code",
   "execution_count": null,
   "metadata": {},
   "outputs": [],
   "source": [
    "# Genre Popularity\n",
    "plt.figure(figsize=(10,6))\n",
    "df.groupby('Genre')['Quantity'].sum().sort_values(ascending=False).head(10).plot.pie(autopct='%1.1f%%')\n",
    "plt.title('Top 10 Genres by Sales Volume')\n",
    "plt.ylabel('')\n",
    "plt.show()"
   ]
  },
  {
   "cell_type": "code",
   "execution_count": null,
   "metadata": {},
   "outputs": [],
   "source": [
    "# Close connection\n",
    "conn.close()"
   ]
  }
 ],
 "metadata": {
  "kernelspec": {
   "display_name": "Python 3",
   "language": "python",
   "name": "python3"
  },
  "language_info": {
   "codemirror_mode": {
    "name": "ipython",
    "version": 3
   },
   "file_extension": ".py",
   "mimetype": "text/x-python",
   "name": "python",
   "nbconvert_exporter": "python",
   "pygments_lexer": "ipython3",
   "version": "3.8.5"
  }
 },
 "nbformat": 4,
 "nbformat_minor": 4
}